{
 "cells": [
  {
   "cell_type": "code",
   "execution_count": 8,
   "id": "9ef909b9-b1fe-4591-8a8f-a6bdf857663d",
   "metadata": {},
   "outputs": [
    {
     "name": "stdout",
     "output_type": "stream",
     "text": [
      "===Frequency Distribution (Data)===\n",
      "   Score  Frequency\n",
      "0     40          3\n",
      "1     50          7\n",
      "2     60         12\n",
      "3     70          8\n",
      "4     80          5\n",
      "5     90          2\n"
     ]
    }
   ],
   "source": [
    "import pandas as pd\n",
    "import numpy as np\n",
    "import statistics as stats\n",
    "\n",
    "#STEP 1: CREATE SAMPLE FREQUENCY DATA \n",
    "\n",
    "data = {\n",
    "    'Score' : [40,50,60,70,80,90],\n",
    "    'Frequency' : [3,7,12,8,5,2]\n",
    "}\n",
    "df = pd.DataFrame(data)\n",
    "print('===Frequency Distribution (Data)===')\n",
    "print(df)"
   ]
  },
  {
   "cell_type": "code",
   "execution_count": 9,
   "id": "74ad2124-4b4c-43e3-9cb7-0553938e7ad5",
   "metadata": {},
   "outputs": [
    {
     "name": "stdout",
     "output_type": "stream",
     "text": [
      "\n",
      " === RAW DATA EXPANDED FROM FREQUENCY ===\n",
      "0    40\n",
      "0    40\n",
      "0    40\n",
      "1    50\n",
      "1    50\n",
      "1    50\n",
      "1    50\n",
      "1    50\n",
      "1    50\n",
      "1    50\n",
      "2    60\n",
      "2    60\n",
      "2    60\n",
      "2    60\n",
      "2    60\n",
      "2    60\n",
      "2    60\n",
      "2    60\n",
      "2    60\n",
      "2    60\n",
      "2    60\n",
      "2    60\n",
      "3    70\n",
      "3    70\n",
      "3    70\n",
      "3    70\n",
      "3    70\n",
      "3    70\n",
      "3    70\n",
      "3    70\n",
      "4    80\n",
      "4    80\n",
      "4    80\n",
      "4    80\n",
      "4    80\n",
      "5    90\n",
      "5    90\n",
      "Name: Score, dtype: int64\n"
     ]
    }
   ],
   "source": [
    "#STEP 2: EXPAND FREQUENCY TABLE INTO RAW DATA\n",
    "\n",
    "expanded_data = np.repeat(df['Score'], df['Frequency'])\n",
    "print(\"\\n === RAW DATA EXPANDED FROM FREQUENCY ===\")\n",
    "print(expanded_data)"
   ]
  },
  {
   "cell_type": "code",
   "execution_count": 10,
   "id": "391a7263-fea9-4034-8f89-42d19a4df714",
   "metadata": {},
   "outputs": [
    {
     "name": "stdout",
     "output_type": "stream",
     "text": [
      "\n",
      " ====Central tendency ===\n",
      "Mean: 62.972972972972975\n",
      "Median: 60.0\n",
      "Mode: 60\n"
     ]
    }
   ],
   "source": [
    "#STEP 3: CENTRAL TENDENCY MEASURES\n",
    "\n",
    "mean_val = np.mean(expanded_data)\n",
    "median_val = np.median(expanded_data)\n",
    "mode_val = stats.mode(expanded_data)\n",
    "print(\"\\n ====Central tendency ===\")\n",
    "print(\"Mean:\",mean_val)\n",
    "print(\"Median:\", median_val)\n",
    "print(\"Mode:\", mode_val)"
   ]
  },
  {
   "cell_type": "code",
   "execution_count": 14,
   "id": "fa34c6ca-f10e-4ac5-81b6-828c85ff6acc",
   "metadata": {},
   "outputs": [
    {
     "name": "stdout",
     "output_type": "stream",
     "text": [
      "\n",
      "===Dispersion Measures===\n",
      "Standard Deviation:  13.094711584127065\n",
      "Variance : 171.47147147147155\n",
      "Mean deviation : 10.562454346238132\n",
      "Q1: 50.0\n",
      "Q3:  70.0\n",
      "Quartile Deviation:  10.0\n"
     ]
    }
   ],
   "source": [
    "#STEP 4: MEASURES OF DISPERSION\n",
    "\n",
    "std_dev = np.std(expanded_data, ddof=1)  #SAMPLE STANDARD DEVIATION\n",
    "variance = np.var(expanded_data,ddof=1)  #SAMPLE VARIANCE\n",
    "mean_dev = np.mean(np.abs(expanded_data - mean_val))\n",
    "q1 = np.percentile(expanded_data,25)\n",
    "q3 = np.percentile(expanded_data,75)\n",
    "quartile_dev = (q3 - q1)/2\n",
    "print(\"\\n===Dispersion Measures===\")\n",
    "print(\"Standard Deviation: \", std_dev)\n",
    "print(\"Variance :\", variance)\n",
    "print(\"Mean deviation :\", mean_dev)\n",
    "print(\"Q1:\", q1)\n",
    "print(\"Q3: \",q3)\n",
    "print(\"Quartile Deviation: \",quartile_dev)"
   ]
  },
  {
   "cell_type": "code",
   "execution_count": null,
   "id": "f574443c-7b90-45f2-8da7-a55d6f5addee",
   "metadata": {},
   "outputs": [],
   "source": []
  }
 ],
 "metadata": {
  "kernelspec": {
   "display_name": "Python [conda env:base] *",
   "language": "python",
   "name": "conda-base-py"
  },
  "language_info": {
   "codemirror_mode": {
    "name": "ipython",
    "version": 3
   },
   "file_extension": ".py",
   "mimetype": "text/x-python",
   "name": "python",
   "nbconvert_exporter": "python",
   "pygments_lexer": "ipython3",
   "version": "3.12.7"
  }
 },
 "nbformat": 4,
 "nbformat_minor": 5
}
