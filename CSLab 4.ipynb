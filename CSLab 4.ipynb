{
  "nbformat": 4,
  "nbformat_minor": 0,
  "metadata": {
    "colab": {
      "provenance": []
    },
    "kernelspec": {
      "name": "python3",
      "display_name": "Python 3"
    },
    "language_info": {
      "name": "python"
    }
  },
  "cells": [
    {
      "cell_type": "markdown",
      "source": [
        "### Program to measure central tendency and measures of dispersion: mean, median, mode, standard deviation, variance, mean deviation and quartile deviation for a frequency distribution/data."
      ],
      "metadata": {
        "id": "66iVrTNyG82v"
      }
    },
    {
      "cell_type": "code",
      "source": [
        "import pandas as pd\n",
        "import numpy as np\n",
        "import statistics as stats"
      ],
      "metadata": {
        "id": "1rEccdpNG9rM"
      },
      "execution_count": 2,
      "outputs": []
    },
    {
      "cell_type": "code",
      "source": [
        "# 1. Create sample frequency data\n",
        "data = {\n",
        "    'Score':[40,50,60,70,80,90],\n",
        "    'Frequency':[3,7,12,8,5,2]\n",
        "}\n",
        "df = pd.DataFrame(data)\n",
        "print(\"Frequency Distribution\")\n",
        "print(df)"
      ],
      "metadata": {
        "colab": {
          "base_uri": "https://localhost:8080/"
        },
        "id": "I0PRjuJEH8fn",
        "outputId": "b758a79f-28f5-4553-cc35-47e96ec87fb8"
      },
      "execution_count": 3,
      "outputs": [
        {
          "output_type": "stream",
          "name": "stdout",
          "text": [
            "Frequency Distribution\n",
            "   Score  Frequency\n",
            "0     40          3\n",
            "1     50          7\n",
            "2     60         12\n",
            "3     70          8\n",
            "4     80          5\n",
            "5     90          2\n"
          ]
        }
      ]
    },
    {
      "cell_type": "code",
      "source": [
        "# 2. Expand frequency table into raw data\n",
        "expanded_data = np.repeat(df['Score'], df['Frequency'])\n",
        "print(\"Raw data expanded from frequency\")\n",
        "print(expanded_data)"
      ],
      "metadata": {
        "colab": {
          "base_uri": "https://localhost:8080/"
        },
        "id": "gdS5qLlFH-Gu",
        "outputId": "d513273c-c024-4785-854e-8031aeab797b"
      },
      "execution_count": 5,
      "outputs": [
        {
          "output_type": "stream",
          "name": "stdout",
          "text": [
            "Raw data expanded from frequency\n",
            "0    40\n",
            "0    40\n",
            "0    40\n",
            "1    50\n",
            "1    50\n",
            "1    50\n",
            "1    50\n",
            "1    50\n",
            "1    50\n",
            "1    50\n",
            "2    60\n",
            "2    60\n",
            "2    60\n",
            "2    60\n",
            "2    60\n",
            "2    60\n",
            "2    60\n",
            "2    60\n",
            "2    60\n",
            "2    60\n",
            "2    60\n",
            "2    60\n",
            "3    70\n",
            "3    70\n",
            "3    70\n",
            "3    70\n",
            "3    70\n",
            "3    70\n",
            "3    70\n",
            "3    70\n",
            "4    80\n",
            "4    80\n",
            "4    80\n",
            "4    80\n",
            "4    80\n",
            "5    90\n",
            "5    90\n",
            "Name: Score, dtype: int64\n"
          ]
        }
      ]
    },
    {
      "cell_type": "code",
      "source": [
        "# 3. Central tendency measures\n",
        "mean_val = np.mean(expanded_data)\n",
        "median_val = np.median(expanded_data)\n",
        "mode_val = stats.mode(expanded_data)\n",
        "print(\"Central Tendency\")\n",
        "print(\"Mean: \", mean_val)\n",
        "print(\"Median: \", median_val)\n",
        "print(\"Mode: \", mode_val)"
      ],
      "metadata": {
        "colab": {
          "base_uri": "https://localhost:8080/"
        },
        "id": "7DhlzL8zIAOo",
        "outputId": "611763a0-ac6f-44a6-8f23-db03a1f251a8"
      },
      "execution_count": 8,
      "outputs": [
        {
          "output_type": "stream",
          "name": "stdout",
          "text": [
            "Central Tendency\n",
            "Mean:  62.972972972972975\n",
            "Median:  60.0\n",
            "Mode:  60\n"
          ]
        }
      ]
    },
    {
      "cell_type": "code",
      "source": [
        "# 4. Measures of Dispersion\n",
        "std_dev = np.std(expanded_data, ddof=1)\n",
        "variance = np.var(expanded_data, ddof=1)\n",
        "mean_dev = np.mean(np.abs(expanded_data - mean_val))\n",
        "q1 = np.percentile(expanded_data, 25)\n",
        "q3 = np.percentile(expanded_data, 75)\n",
        "quartile_dev = (q3-q1)/2\n",
        "print(\"Dispersion measures\")\n",
        "print(\"Standard Deviation: \", std_dev)\n",
        "print(\"Variance: \", variance)\n",
        "print(\"Mean Deviation: \", mean_dev)\n",
        "print(\"Q1: \", q1)\n",
        "print(\"Q3: \", q3)\n",
        "print(\"Quartile Deviation: \", quartile_dev)"
      ],
      "metadata": {
        "colab": {
          "base_uri": "https://localhost:8080/"
        },
        "id": "MLBVuGUnIK7R",
        "outputId": "a0f92e0a-2f9a-4d60-93ce-2e526d81bfb9"
      },
      "execution_count": 7,
      "outputs": [
        {
          "output_type": "stream",
          "name": "stdout",
          "text": [
            "Dispersion measures\n",
            "Standard Deviation:  13.094711584127065\n",
            "Variance:  171.47147147147155\n",
            "Mean Deviation:  10.562454346238132\n",
            "Q1:  50.0\n",
            "Q3:  70.0\n",
            "Quartile Deviation:  10.0\n"
          ]
        }
      ]
    },
    {
      "cell_type": "code",
      "source": [],
      "metadata": {
        "id": "q6Nk5I1mIcwC"
      },
      "execution_count": null,
      "outputs": []
    }
  ]
}