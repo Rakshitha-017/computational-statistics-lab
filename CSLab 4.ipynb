{
 "cells": [
  {
   "cell_type": "code",
   "execution_count": 1,
   "id": "9b0203d3-8a93-4bd0-87c8-8ff024e2dbff",
   "metadata": {},
   "outputs": [],
   "source": [
    "import pandas as pd\n",
    "import numpy as np\n",
    "import statistics as stats"
   ]
  },
  {
   "cell_type": "code",
   "execution_count": 6,
   "id": "8b4386d7-be12-4024-8c1f-a0d44e209089",
   "metadata": {},
   "outputs": [
    {
     "name": "stdout",
     "output_type": "stream",
     "text": [
      "Frequency Distribution\n",
      "   Score  Frequency\n",
      "0     40          3\n",
      "1     50          7\n",
      "2     60         12\n",
      "3     70          8\n",
      "4     80          5\n",
      "5     90          2\n"
     ]
    }
   ],
   "source": [
    "# 1. Create sample frequency data\n",
    "data = {\n",
    "    'Score':[40,50,60,70,80,90],\n",
    "    'Frequency':[3,7,12,8,5,2]\n",
    "}\n",
    "df = pd.DataFrame(data)\n",
    "print(\"Frequency Distribution\")\n",
    "print(df)"
   ]
  },
  {
   "cell_type": "code",
   "execution_count": 7,
   "id": "2b8ad39e-6e5d-45c9-b7ba-c589e72edbbb",
   "metadata": {},
   "outputs": [
    {
     "name": "stdout",
     "output_type": "stream",
     "text": [
      "\n",
      "Raw Data Expanded From Frequency\n",
      "0    40\n",
      "0    40\n",
      "0    40\n",
      "1    50\n",
      "1    50\n",
      "1    50\n",
      "1    50\n",
      "1    50\n",
      "1    50\n",
      "1    50\n",
      "2    60\n",
      "2    60\n",
      "2    60\n",
      "2    60\n",
      "2    60\n",
      "2    60\n",
      "2    60\n",
      "2    60\n",
      "2    60\n",
      "2    60\n",
      "2    60\n",
      "2    60\n",
      "3    70\n",
      "3    70\n",
      "3    70\n",
      "3    70\n",
      "3    70\n",
      "3    70\n",
      "3    70\n",
      "3    70\n",
      "4    80\n",
      "4    80\n",
      "4    80\n",
      "4    80\n",
      "4    80\n",
      "5    90\n",
      "5    90\n",
      "Name: Score, dtype: int64\n"
     ]
    }
   ],
   "source": [
    "# 2. Expand frequency table into raw data\n",
    "expanded_data = np.repeat(df['Score'], df['Frequency'])\n",
    "print(\"\\nRaw Data Expanded From Frequency\")\n",
    "print(expanded_data)"
   ]
  },
  {
   "cell_type": "code",
   "execution_count": 4,
   "id": "10833c3c-84e2-4d69-ad59-a5ee2663ecb4",
   "metadata": {},
   "outputs": [
    {
     "name": "stdout",
     "output_type": "stream",
     "text": [
      "---Central Tendency---\n",
      "Mean: 62.972972972972975\n",
      "Median: 60.0\n",
      "Mode: 60\n"
     ]
    }
   ],
   "source": [
    "# 3. Central tendency measures\n",
    "mean_val=np.mean(expanded_data)\n",
    "median_val=np.median(expanded_data)\n",
    "mode_val=stats.mode(expanded_data)\n",
    "print(\"---Central Tendency---\")\n",
    "print(\"Mean:\",mean_val)\n",
    "print(\"Median:\",median_val)\n",
    "print(\"Mode:\",mode_val)\n"
   ]
  },
  {
   "cell_type": "code",
   "execution_count": null,
   "id": "9a26d96a-48b9-4577-88f3-6cb9359f0dcd",
   "metadata": {},
   "outputs": [],
   "source": [
    "# 4. Measures of Dispersion\n",
    "std_dev=np.std(expanded_data,ddof=1)\n",
    "variance=np.var(expanded_data,ddof=1)\n",
    "mean_dev=np.mean(np.abs(expanded_data-mean_val))\n",
    "q1=np.percentile(expanded_data,25)\n",
    "q3=np.percentile(expanded_data,75)\n",
    "quartile_dev=(q3-q1)/2\n",
    "print(\"---Dispersion Measures---\")\n",
    "print(\"Standard Deviation:\",std_dev)\n",
    "print(\"Variance:\",variance)\n",
    "print(\"Mean Deviation:\",mean_dev)\n",
    "print(\"Q1:\",q1)\n",
    "print(\"Q3:\",q3)\n",
    "print(\"Quartile Deviation:\",quartile_dev)"
   ]
  }
 ],
 "metadata": {
  "kernelspec": {
   "display_name": "Python 3 (ipykernel)",
   "language": "python",
   "name": "python3"
  },
  "language_info": {
   "codemirror_mode": {
    "name": "ipython",
    "version": 3
   },
   "file_extension": ".py",
   "mimetype": "text/x-python",
   "name": "python",
   "nbconvert_exporter": "python",
   "pygments_lexer": "ipython3",
   "version": "3.12.7"
  }
 },
 "nbformat": 4,
 "nbformat_minor": 5
}
