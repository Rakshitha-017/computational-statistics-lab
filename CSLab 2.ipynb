{
 "cells": [
  {
   "cell_type": "markdown",
   "id": "a26a01a1-d3b2-4fb7-bff7-599a9ccba567",
   "metadata": {},
   "source": [
    "### Program on Data Transformation: String Manipulation, Regular Expressions"
   ]
  },
  {
   "cell_type": "code",
   "execution_count": 1,
   "id": "a81e54dd-50dd-45d6-92a4-d72a22b6a7c5",
   "metadata": {},
   "outputs": [],
   "source": [
    "import pandas as pd\n",
    "import re"
   ]
  },
  {
   "cell_type": "code",
   "execution_count": 14,
   "id": "0fe4ac6c-fc84-4627-9b6a-ddef6033a830",
   "metadata": {},
   "outputs": [
    {
     "name": "stdout",
     "output_type": "stream",
     "text": [
      "Original data:\n",
      "            Name                Email\n",
      "0    Alice Smith   alice123@gmail.com\n",
      "1    BOB johnson      BOB@outlook.COM\n",
      "2  Charlie.brown  charlie.b@gmail.com\n",
      "3      david_lee    lee_david@mit.edu\n"
     ]
    }
   ],
   "source": [
    "# Sample dataset with messy data\n",
    "df = pd.DataFrame({\n",
    "    'Name': ['Alice Smith', 'BOB johnson', 'Charlie.brown', 'david_lee'],\n",
    "    'Email': ['alice123@gmail.com', 'BOB@outlook.COM', 'charlie.b@gmail.com', 'lee_david@mit.edu']\n",
    "})\n",
    "\n",
    "print(\"Original data:\")\n",
    "print(df)"
   ]
  },
  {
   "cell_type": "code",
   "execution_count": 16,
   "id": "5d7ab922-a3e4-4617-9da1-2307c660a47d",
   "metadata": {},
   "outputs": [
    {
     "name": "stdout",
     "output_type": "stream",
     "text": [
      "Cleaned Data: \n",
      "            Name                Email\n",
      "0    Alice Smith   alice123@gmail.com\n",
      "1    Bob Johnson      bob@outlook.com\n",
      "2  Charlie.Brown  charlie.b@gmail.com\n",
      "3      David_Lee    lee_david@mit.edu\n"
     ]
    }
   ],
   "source": [
    "# String Manipulation\n",
    "\n",
    "# Remove leading/trailing whitespaces from names\n",
    "df['Name'] = df['Name'].str.strip()\n",
    "# Convert names to title case\n",
    "df['Name'] = df['Name'].str.title()\n",
    "# Convert names to lowercase\n",
    "df['Email'] = df['Email'].str.lower()\n",
    "\n",
    "print(\"Cleaned Data: \")\n",
    "print(df)"
   ]
  },
  {
   "cell_type": "code",
   "execution_count": 18,
   "id": "cd4b623a-40b7-4a09-8cc2-d39980fcf154",
   "metadata": {},
   "outputs": [
    {
     "name": "stdout",
     "output_type": "stream",
     "text": [
      "Email Domains extracted:\n",
      "            Name                Email Email_Domain\n",
      "0    Alice Smith   alice123@gmail.com    gmail.com\n",
      "1    Bob Johnson      bob@outlook.com  outlook.com\n",
      "2  Charlie.Brown  charlie.b@gmail.com    gmail.com\n",
      "3      David_Lee    lee_david@mit.edu      mit.edu\n"
     ]
    }
   ],
   "source": [
    "# Extract domain name from Email using REGEX\n",
    "\n",
    "# Extract everything after '@'\n",
    "df['Email_Domain'] = df['Email'].str.extract(r'@([\\w.]+)')\n",
    "\n",
    "print(\"Email Domains extracted:\")\n",
    "print(df[['Name', 'Email', 'Email_Domain']])"
   ]
  },
  {
   "cell_type": "code",
   "execution_count": 20,
   "id": "05b3e16e-81a6-4e22-b3c2-cfbc13278a2e",
   "metadata": {},
   "outputs": [
    {
     "name": "stdout",
     "output_type": "stream",
     "text": [
      "Names with dots?\n",
      "            Name  Has_Dot_In_Name\n",
      "0    Alice Smith            False\n",
      "1    Bob Johnson            False\n",
      "2  Charlie.Brown             True\n",
      "3      David_Lee            False\n"
     ]
    }
   ],
   "source": [
    "# Check if name contains a dot\n",
    "\n",
    "df['Has_Dot_In_Name'] = df['Name'].str.contains(r'\\.')\n",
    "\n",
    "print(\"Names with dots?\")\n",
    "print(df[['Name', 'Has_Dot_In_Name']])"
   ]
  },
  {
   "cell_type": "code",
   "execution_count": null,
   "id": "255e31f7-a586-4066-9b7f-556b7e3d5e8c",
   "metadata": {},
   "outputs": [],
   "source": []
  }
 ],
 "metadata": {
  "kernelspec": {
   "display_name": "Python 3 (ipykernel)",
   "language": "python",
   "name": "python3"
  },
  "language_info": {
   "codemirror_mode": {
    "name": "ipython",
    "version": 3
   },
   "file_extension": ".py",
   "mimetype": "text/x-python",
   "name": "python",
   "nbconvert_exporter": "python",
   "pygments_lexer": "ipython3",
   "version": "3.12.7"
  }
 },
 "nbformat": 4,
 "nbformat_minor": 5
}
