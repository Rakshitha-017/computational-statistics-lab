{
 "cells": [
  {
   "cell_type": "markdown",
   "id": "a297e5ea-0c88-4e96-b7cc-79bde2d828c3",
   "metadata": {},
   "source": [
    "### Program on data wrangling: Combining and merging datasets, Reshaping and Pivoting "
   ]
  },
  {
   "cell_type": "code",
   "execution_count": 1,
   "id": "41f6cab9-26d5-4ed5-b956-0512c5f2a432",
   "metadata": {},
   "outputs": [],
   "source": [
    "import pandas as pd"
   ]
  },
  {
   "cell_type": "code",
   "execution_count": 3,
   "id": "29c25f58-39c9-42a6-8b1e-bc600ce6c4ec",
   "metadata": {},
   "outputs": [
    {
     "name": "stdout",
     "output_type": "stream",
     "text": [
      "   Student_ID       Name  Marks\n",
      "0         101     Akriti     10\n",
      "1         102  Rakshitha     20\n",
      "2         103   Shreshta     30\n"
     ]
    }
   ],
   "source": [
    "students_1 = pd.DataFrame({\n",
    "    'Student_ID' : [101, 102, 103],\n",
    "    'Name' : ['Akriti', 'Rakshitha', 'Shreshta'],\n",
    "    'Marks' : [10, 20, 30]\n",
    "})\n",
    "print(students_1)"
   ]
  },
  {
   "cell_type": "code",
   "execution_count": 7,
   "id": "5ee75f83-3150-4f6e-aa0c-4bfa613b5088",
   "metadata": {},
   "outputs": [
    {
     "name": "stdout",
     "output_type": "stream",
     "text": [
      "   Student_ID      Name  Marks\n",
      "0         104  Shraavya     40\n",
      "1         105   Thrisha     50\n"
     ]
    }
   ],
   "source": [
    "students_2 = pd.DataFrame({\n",
    "    'Student_ID' : [104, 105],\n",
    "    'Name' : ['Shraavya', 'Thrisha'],\n",
    "    'Marks' : [40, 50]\n",
    "})\n",
    "print(students_2)"
   ]
  },
  {
   "cell_type": "code",
   "execution_count": 14,
   "id": "53ce053e-0165-4e5d-b2b2-817f32b74747",
   "metadata": {},
   "outputs": [
    {
     "name": "stdout",
     "output_type": "stream",
     "text": [
      "   Student_ID       Name  Marks\n",
      "0         101     Akriti     10\n",
      "1         102  Rakshitha     20\n",
      "2         103   Shreshta     30\n",
      "0         104   Shraavya     40\n",
      "1         105    Thrisha     50\n"
     ]
    }
   ],
   "source": [
    "# Combining/Concatenating\n",
    "combined_students = pd.concat([students_1, students_2])\n",
    "print(combined_students)"
   ]
  },
  {
   "cell_type": "code",
   "execution_count": 15,
   "id": "8ed81053-7742-4fc9-8abc-ddd8a5d3174d",
   "metadata": {},
   "outputs": [
    {
     "name": "stdout",
     "output_type": "stream",
     "text": [
      "   Student_ID       Name  Marks Department\n",
      "0         101     Akriti     10       CSBS\n",
      "1         102  Rakshitha     20       AIML\n",
      "2         103   Shreshta     30        CSE\n",
      "3         104   Shraavya     40        CSD\n",
      "4         105    Thrisha     50        ISE\n"
     ]
    }
   ],
   "source": [
    "# Merging\n",
    "details = pd.DataFrame({\n",
    "    'Student_ID' : [101, 102, 103, 104, 105],\n",
    "    'Department' : ['CSBS', 'AIML', 'CSE', 'CSD', 'ISE']\n",
    "})\n",
    "\n",
    "merged_data = pd.merge(combined_students, details, on = 'Student_ID')\n",
    "print(merged_data)"
   ]
  },
  {
   "cell_type": "code",
   "execution_count": 17,
   "id": "c5fd7c05-e05c-4a99-bdc7-870f56a883b2",
   "metadata": {},
   "outputs": [
    {
     "name": "stdout",
     "output_type": "stream",
     "text": [
      "    Student_ID    variable      value\n",
      "0          101        Name     Akriti\n",
      "1          102        Name  Rakshitha\n",
      "2          103        Name   Shreshta\n",
      "3          104        Name   Shraavya\n",
      "4          105        Name    Thrisha\n",
      "5          101       Marks         10\n",
      "6          102       Marks         20\n",
      "7          103       Marks         30\n",
      "8          104       Marks         40\n",
      "9          105       Marks         50\n",
      "10         101  Department       CSBS\n",
      "11         102  Department       AIML\n",
      "12         103  Department        CSE\n",
      "13         104  Department        CSD\n",
      "14         105  Department        ISE\n"
     ]
    }
   ],
   "source": [
    "# Reshaping using MELT\n",
    "melted = pd.melt(merged_data, id_vars = ['Student_ID'], value_vars = ['Name', 'Marks', 'Department'])\n",
    "print(melted)"
   ]
  },
  {
   "cell_type": "code",
   "execution_count": 19,
   "id": "64990fd3-97f5-444a-9908-cb564232d7b9",
   "metadata": {},
   "outputs": [
    {
     "name": "stdout",
     "output_type": "stream",
     "text": [
      "variable   Department Marks       Name\n",
      "Student_ID                            \n",
      "101              CSBS    10     Akriti\n",
      "102              AIML    20  Rakshitha\n",
      "103               CSE    30   Shreshta\n",
      "104               CSD    40   Shraavya\n",
      "105               ISE    50    Thrisha\n"
     ]
    }
   ],
   "source": [
    "# Pivoting\n",
    "pivoted_data = melted.pivot(index = 'Student_ID', columns = 'variable', values = 'value')\n",
    "print(pivoted_data)"
   ]
  }
 ],
 "metadata": {
  "kernelspec": {
   "display_name": "Python [conda env:base] *",
   "language": "python",
   "name": "conda-base-py"
  },
  "language_info": {
   "codemirror_mode": {
    "name": "ipython",
    "version": 3
   },
   "file_extension": ".py",
   "mimetype": "text/x-python",
   "name": "python",
   "nbconvert_exporter": "python",
   "pygments_lexer": "ipython3",
   "version": "3.12.7"
  }
 },
 "nbformat": 4,
 "nbformat_minor": 5
}
